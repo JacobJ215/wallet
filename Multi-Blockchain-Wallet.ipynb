{
 "cells": [
  {
   "cell_type": "code",
   "execution_count": 15,
   "id": "6495d649",
   "metadata": {},
   "outputs": [
    {
     "name": "stdout",
     "output_type": "stream",
     "text": [
      "\"0x5bb4c3a9c8e7cd6436c82a5728edcca725ca242c913b1c1578c8adbc55cc93bc\"\n",
      "\"cMnFrJMSpnbYziWvNbZjLyqtfsZC1x4qAddu13sj5sByWBz4xbCa\"\n",
      "{\n",
      "    \"btc\": [\n",
      "        {\n",
      "            \"address\": \"14Hk5VXBRB7ZaSorvg3NWEnUNmjdX54YbR\",\n",
      "            \"index\": 0,\n",
      "            \"path\": \"m/44'/0'/0'/0/0\",\n",
      "            \"privkey\": \"L4UR6QHkQKEJznH2jYbmMXdFqwYcyy2S8KpuDvRgwsS8hRn6ZCbn\",\n",
      "            \"pubkey\": \"02764b3865769ecebbe0f564886f62f5267303579722bc5a53fb4720704108a235\",\n",
      "            \"pubkeyhash\": \"2412fdf255f60620b1cffaf7d8559ad769b1704b\",\n",
      "            \"xprv\": \"xprvA4DA4aZboGYP5sW5w8ouxkjEmezX1T87eLX9f1UKgRZWQu3MhTbEwsrhe1vgjaRcokTP2vERtFLQQVJBc3o5CzhunPmD89U5SLzUbyU88ph\",\n",
      "            \"xpub\": \"xpub6HCWU66Vde6gJMaZ3ALvKtfyKgq1Quqy1ZSkTPswEm6VHhNWEzuVVgBBVGDEW8NS2trdgdDycpfmyXB25vtYoNwrGTJ7zSzg49k7pozbVUr\"\n",
      "        },\n",
      "        {\n",
      "            \"address\": \"16zT71nif5rx9NzfN8bvQ4qWqJwFHsKzhQ\",\n",
      "            \"index\": 1,\n",
      "            \"path\": \"m/44'/0'/0'/0/1\",\n",
      "            \"privkey\": \"L4NMh4F5xXfjF76kq97KbZGPRX933mSZNuCBtArJSs2xWr5P8CAR\",\n",
      "            \"pubkey\": \"023bc3f94b072358a31ef09e024e55f64550c9f4d4f7e5b1628efc656800893a5d\",\n",
      "            \"pubkeyhash\": \"41b62105ff374fbb81f24e40b5ec25284eaf0b06\",\n",
      "            \"xprv\": \"xprvA4DA4aZboGYP8fQmxbPa9LJTqNJCPjByGuZnmhosqx2eGaoJm7m4ZoqWwTdgnyBCdKZoZ17GG57KyP9uB17qiFVgj9u1Ef1ZVz8sbdn68JY\",\n",
      "            \"xpub\": \"xpub6HCWU66Vde6gM9VF4cvaWUFCPQ8goBupe8VPa6DVQHZd9P8TJf5K7c9znhVq9bnDoKFUsNArvb9kJTgA3jMmAob462n6ZYDoCoF4Rs4XqD2\"\n",
      "        },\n",
      "        {\n",
      "            \"address\": \"17Sm529SfMhWXoAC4nzLhRnVbEsmD88gk9\",\n",
      "            \"index\": 2,\n",
      "            \"path\": \"m/44'/0'/0'/0/2\",\n",
      "            \"privkey\": \"L5gdPqxV46tMLKEVFFQbkSnMZJ1Yi2GgqT9R3xWCv5bAD4mZz3kt\",\n",
      "            \"pubkey\": \"03cbb4cc33fae0d6da445d9d66c15ca851f9eca4513625eb3b307975c8228e9181\",\n",
      "            \"pubkeyhash\": \"46aff0e2328be73decf587baa74ddbbe0fae0ed0\",\n",
      "            \"xprv\": \"xprvA4DA4aZboGYPDHnGWPwJyNBmAKZSYNaDVpEhRgcVMUAzf2Pmi61ZNdqoYpDRCj7iaGEkPbYuTXnD3MGu7YNrNixorEeeWjMMLmNdWJYKthq\",\n",
      "            \"xpub\": \"xpub6HCWU66Vde6gRmrjcRUKLW8ViMPvwqJ4s3AJE526uohyXpivFdKovSAHQ6pRGAeGGbSNVr6jU9Ex1FW8rr5Tsp1Hqs77nqTkUgm5kwdNRAr\"\n",
      "        }\n",
      "    ],\n",
      "    \"btc-test\": [\n",
      "        {\n",
      "            \"address\": \"mrXKsNqYu8wNf8zLihKjytY1Rk3WJJ92KR\",\n",
      "            \"index\": 0,\n",
      "            \"path\": \"m/44'/1'/0'/0/0\",\n",
      "            \"privkey\": \"cMnFrJMSpnbYziWvNbZjLyqtfsZC1x4qAddu13sj5sByWBz4xbCa\",\n",
      "            \"pubkey\": \"02d25216aae563eb6377273f65e967723281a05e15e7c8a81f3468d54bd938bc80\",\n",
      "            \"pubkeyhash\": \"78bb64a4d70b96554304363847b1842e1e765e48\",\n",
      "            \"xprv\": \"tprv8kfASjoBLoevZDZQFceaixyv185XWR3Z3w1gQpoGod8QVCe13mLN6j9bFBDRskkHFPQnn5Xidi7YFYqvQ7qectaLw3T6nSu3VSm9bbRc8kU\",\n",
      "            \"xpub\": \"tpubDHMCb9qRVBLbSgbC9GKB8Ne2a9bTfkETdEcThLqaDtvoKgtmgA9xHDmTRKiLMU2SwzuS2Mt9XpLLm5D8gCbVVZDyqoT7pjvfi2FTv38Vsfd\"\n",
      "        },\n",
      "        {\n",
      "            \"address\": \"moApZBgohEyE7wxpNfkRvunno9NK91oLoz\",\n",
      "            \"index\": 1,\n",
      "            \"path\": \"m/44'/1'/0'/0/1\",\n",
      "            \"privkey\": \"cS3bGU3Suo3abRBgq4FJUZNZJ4ZmaK4DwchJNmYeEaXraKdNPhTY\",\n",
      "            \"pubkey\": \"031441338d3fa9d421496b5aaef03c2592ad5f39a1426935fbade2e75a46e52bfd\",\n",
      "            \"pubkeyhash\": \"53f23a0bcaaf122d14ffbceb48f3149b02506cc3\",\n",
      "            \"xprv\": \"tprv8kfASjoBLoevcjB19F1QjKGaVmwCGfEbRSezyjaWkpEqFxAK4LRTFzY7fW3ukHBjjnkLDCWySx6if9CsJnYuKpCDk9aYiqv1wJfbjKiouRu\",\n",
      "            \"xpub\": \"tpubDHMCb9qRVBLbWCCo2tg18ivh4oT8RzRVzkFnGFcpB63E6SR5gjF3SV9yqe5pHeEoYPzNxdfBTCmVuYjzcC1pm4UCdYuTT13rg9tWGfMbC3Z\"\n",
      "        },\n",
      "        {\n",
      "            \"address\": \"n4dLgBLUPd65kpzh6KvfeRb6ae471LPuPm\",\n",
      "            \"index\": 2,\n",
      "            \"path\": \"m/44'/1'/0'/0/2\",\n",
      "            \"privkey\": \"cPAj4vcwAXj9RZBpKVsRKVp4cLRnJ9EBhzD9VAc39ip28DGhqYY5\",\n",
      "            \"pubkey\": \"03fe8ac1ee4d01489da303e1c2cd684eb2f3ee663d4d2744979f774fbc72f5532c\",\n",
      "            \"pubkeyhash\": \"fd8012684f1a5980dbe783f62bc7dcf0793f4780\",\n",
      "            \"xprv\": \"tprv8kfASjoBLoeve76iVyy6Rt5UfPZ9XhyED2B7WEYDNktEkKaS2eDUTSurDHzjnipDy8Gq3VTgou3k7YRmheaFnqCU1epAKWo9wrWLCZN1BfB\",\n",
      "            \"xpub\": \"tpubDHMCb9qRVBLbXa8WPddgqHjbER55h3A8nKmtnkaWo2gdaoqCf334dwXiPUTdbsyYX2DwXrHHQyPPcNNRaBP5Qqq14gyRLxLw4HScMV49Jpw\"\n",
      "        }\n",
      "    ],\n",
      "    \"eth\": [\n",
      "        {\n",
      "            \"address\": \"0x712146Eaabec7B154cD9234f0aEBA738e6D0AaCc\",\n",
      "            \"index\": 0,\n",
      "            \"path\": \"m/44'/60'/0'/0/0\",\n",
      "            \"privkey\": \"0x5bb4c3a9c8e7cd6436c82a5728edcca725ca242c913b1c1578c8adbc55cc93bc\",\n",
      "            \"pubkey\": \"020757e67fbefe47352e4a085a989fdeff964ec10f87f085079cc3299c58a562b0\",\n",
      "            \"pubkeyhash\": \"f46559fc29e3370d3bd170d283c8dabdffd9fada\",\n",
      "            \"xprv\": \"xprvA3wXQcrycS6vZqNwitiZo854KJXGojEUpzMEZ1YhFdBZHL8TmMj3zK6zaHwhjKu1tgmiLzdUa1htu7vw1iYkm4GkTAN2JtScmbrFmjPcEh8\",\n",
      "            \"xpub\": \"xpub6Gvsp8PsSofDnKTQpvFaAG1nsLMmDBxLCDGqMPxJoxiYA8TcJu3JY7RURYLKEqcNesBqaiTXdm6T8sQuz717oVecXVB3kBGBiQCpojhCeQn\"\n",
      "        },\n",
      "        {\n",
      "            \"address\": \"0x836D44C043096A4469aa965d9A55a0150a862ba9\",\n",
      "            \"index\": 1,\n",
      "            \"path\": \"m/44'/60'/0'/0/1\",\n",
      "            \"privkey\": \"0x4c6d529f072c06d706b49a5e438f2ea64ed53f7781bf30870586ce23ab56e832\",\n",
      "            \"pubkey\": \"02f7ad2e40336bf76c8ab7e94c911b8258b1bc2cd62a9f1b37ef3d9e6ce813b246\",\n",
      "            \"pubkeyhash\": \"c61903c0e8145e53219e1937cd6457952dcd70db\",\n",
      "            \"xprv\": \"xprvA3wXQcrycS6vc5YLBeFhqvzs9bF5uzxij7byc3hGMDg8vakXitomNfkneu8s5MgPiuH3zKw8FrrshrWztvfsMsmWiPAhYJ7geoZ2MGYc6y5\",\n",
      "            \"xpub\": \"xpub6Gvsp8PsSofDpZcoHfniD4wbhd5aKTga6LXaQS6suZD7oP5gGS81vU5GWBU3rZB7QZz3p2Z4dnUY4zVC1jmiE3P2Mc62NhLq8x22obouUV1\"\n",
      "        },\n",
      "        {\n",
      "            \"address\": \"0x1f1040EA72C010c3bb629730411ac187e3c54052\",\n",
      "            \"index\": 2,\n",
      "            \"path\": \"m/44'/60'/0'/0/2\",\n",
      "            \"privkey\": \"0x3e028e403b1d57ad2ea4c6a8b880a51efd8a6a0eea010e1406a780904b9667fa\",\n",
      "            \"pubkey\": \"03fc1d23378db4767f76bc3eb53efe42b2ee55500b885e57cb22b83667e5e2352b\",\n",
      "            \"pubkeyhash\": \"762cce4380bea03c8141f2cd1e4e5d8b074e3d60\",\n",
      "            \"xprv\": \"xprvA3wXQcrycS6vfnjQBdaoAynkUd6P24y8bbFnfwAbxcisNDWFiTkyy9bFDVw6BBJUH2MPKxzByAF8spgd8xYHRqyBbvfw38CysYx2HUZtqe2\",\n",
      "            \"xpub\": \"xpub6Gvsp8PsSofDtGosHf7oY7jV2evsRXgyxpBPUKaDWxFrF1qQG15EWwuj4pMKjzd7nYqA6GMrsK2APUnq4LWf5gYnjC9vf56G31vztdfuyVB\"\n",
      "        }\n",
      "    ]\n",
      "}\n"
     ]
    }
   ],
   "source": [
    "# Import dependencies\n",
    "import subprocess\n",
    "import json\n",
    "import os\n",
    "from dotenv import load_dotenv\n",
    "\n",
    "# Load and set environment variables\n",
    "load_dotenv()\n",
    "mnemonic=os.getenv(\"mnemonic\")\n",
    "\n",
    "# Import constants.py and necessary functions from bit and web3\n",
    "# YOUR CODE HERE\n",
    "\n",
    "from constants import *\n",
    "from bit import Key, PrivateKey, PrivateKeyTestnet\n",
    "from bit.network import NetworkAPI\n",
    "from bit import *\n",
    "from web3 import Web3\n",
    "from eth_account import Account \n",
    "\n",
    "w3 = Web3(Web3.HTTPProvider(\"http://127.0.0.1.8545\"))\n",
    " \n",
    " \n",
    "# Create a function called `derive_wallets'\n",
    "def derive_wallets(mnemonic, coin, numderive):\n",
    "    command = f'./derive -g --mnemonic=\"{mnemonic}\" --numderive=\"{numderive}\" --coin=\"{coin}\" --format=json'\n",
    "    p = subprocess.Popen(command, stdout=subprocess.PIPE, shell=True)\n",
    "    output, err = p.communicate()\n",
    "    p_status = p.wait()\n",
    "    return json.loads(output)\n",
    "\n",
    "# Create a dictionary object called coins to store the output from `derive_wallets`.\n",
    "coins = {\"eth\", \"btc-test\", \"btc\"}\n",
    "numderive = 3\n",
    "    \n",
    "# Setting the dictionarry\n",
    "keys = {}\n",
    "for coin in coins:\n",
    "    keys[coin]= derive_wallets(os.getenv('mnemonic'), coin, numderive=3)\n",
    "\n",
    "eth_PrivateKey = keys[\"eth\"][0]['privkey']\n",
    "btc_PrivateKey = keys['btc-test'][0]['privkey']\n",
    "\n",
    "\n",
    "print(json.dumps(eth_PrivateKey, indent=4, sort_keys=True))\n",
    "print(json.dumps(btc_PrivateKey, indent=4, sort_keys=True))\n",
    "print(json.dumps(keys, indent=4, sort_keys=True))\n",
    "\n",
    "# Create a function called `priv_key_to_account` that converts privkey strings to account objects.\n",
    "def priv_key_to_account(coin, priv_key):\n",
    "    if coin == ETH:\n",
    "        return Account.privateKeyToAccount(priv_key)\n",
    "    if coin == BTCTEST:\n",
    "        return PrivateKeyTestnet(priv_key)\n",
    "    \n",
    "eth_acc = priv_key_to_account(ETH,eth_PrivateKey)\n",
    "btc_acc = priv_key_to_account(BTCTEST,btc_PrivateKey)\n",
    "\n",
    "\n",
    "# Create a function called `create_tx` that creates an unsigned transaction appropriate metadata.\n",
    "def create_tx(coin, account, recipient, amount):\n",
    "    if coin == ETH: \n",
    "        gasEstimate = w3.eth.estimateGas(\n",
    "            {\"from\":eth_acc.address, \"to\":recipient, \"value\": amount}\n",
    "        )\n",
    "        return { \n",
    "            \"from\": eth_acc.address,\n",
    "            \"to\": recipient,\n",
    "            \"value\": amount,\n",
    "            \"gasPrice\": w3.eth.gasPrice,\n",
    "            \"gas\": gasEstimate,\n",
    "            \"nonce\": w3.eth.getTransactionCount(eth_acc.address)\n",
    "        }\n",
    "    \n",
    "    elif coin == BTCTEST:\n",
    "        return PrivateKeyTestnet.prepare_transaction(account.address, [(recipient, amount, BTC)])    \n",
    "    \n",
    "\n",
    "# Create a function called `send_tx` that calls `create_tx`, signs and sends the transaction.\n",
    "def send_tx(coin,account,recipient, amount):\n",
    "    if coin == \"eth\": \n",
    "        tx_eth = create_tx(coin,account, recipient, amount)\n",
    "        sign_tx = account.signTransaction(tx_eth)\n",
    "        result = w3.eth.sendRawTransaction(sign_tx.rawTransaction)\n",
    "        print(result.hex())\n",
    "        return result.hex()\n",
    "    elif coin == BTCTEST:\n",
    "        tx_btctest= create_tx(coin,account,recipient,amount)\n",
    "        sign_tx = account.sign_transaction(tx_btctest)      \n",
    "        return NetworkAPI.broadcast_tx_testnet(sign_tx)     "
   ]
  },
  {
   "cell_type": "code",
   "execution_count": 11,
   "id": "9a2cc2fc",
   "metadata": {},
   "outputs": [
    {
     "data": {
      "text/plain": [
       "'{\"unspents\":[{\"amount\":100000,\"confirmations\":1,\"script\":\"76a91478bb64a4d70b96554304363847b1842e1e765e4888ac\",\"txid\":\"e1952606e9545dfd28c5776a5c89017597be3bb65c162c526d6e57152cbf78a3\",\"txindex\":1,\"type\":\"p2pkh\",\"vsize\":148,\"segwit\":false,\"sequence\":4294967295}],\"outputs\":[[\"mrXKsNqYu8wNf8zLihKjytY1Rk3WJJ92KR\",1000],[\"mrXKsNqYu8wNf8zLihKjytY1Rk3WJJ92KR\",75948]]}'"
      ]
     },
     "execution_count": 11,
     "metadata": {},
     "output_type": "execute_result"
    }
   ],
   "source": [
    "create_tx(BTCTEST,btc_acc,\"mrXKsNqYu8wNf8zLihKjytY1Rk3WJJ92KR\", 0.00001)"
   ]
  },
  {
   "cell_type": "code",
   "execution_count": 13,
   "id": "f65206dd",
   "metadata": {},
   "outputs": [],
   "source": [
    "send_tx(BTCTEST,btc_acc,\"mrXKsNqYu8wNf8zLihKjytY1Rk3WJJ92KR\", 0.00001)"
   ]
  },
  {
   "cell_type": "code",
   "execution_count": 44,
   "id": "dd5c7177",
   "metadata": {},
   "outputs": [],
   "source": [
    "w3 = Web3(Web3.HTTPProvider(\"http://127.0.0.1:8545/0x5bb4c3a9c8e7cd6436c82a5728edcca725ca242c913b1c1578c8adbc55cc93bc\"))\n",
    "from web3.middleware import geth_poa_middleware\n",
    "w3.middleware_onion.inject(geth_poa_middleware, layer=0)\n"
   ]
  },
  {
   "cell_type": "code",
   "execution_count": 45,
   "id": "647d1eac",
   "metadata": {},
   "outputs": [
    {
     "data": {
      "text/plain": [
       "True"
      ]
     },
     "execution_count": 45,
     "metadata": {},
     "output_type": "execute_result"
    }
   ],
   "source": [
    "w3.isConnected()"
   ]
  },
  {
   "cell_type": "code",
   "execution_count": 46,
   "id": "998be826",
   "metadata": {},
   "outputs": [
    {
     "data": {
      "text/plain": [
       "0"
      ]
     },
     "execution_count": 46,
     "metadata": {},
     "output_type": "execute_result"
    }
   ],
   "source": [
    "w3.eth.getBalance(\"0x712146Eaabec7B154cD9234f0aEBA738e6D0AaCc\")"
   ]
  },
  {
   "cell_type": "code",
   "execution_count": null,
   "id": "b6f2f391",
   "metadata": {},
   "outputs": [],
   "source": []
  }
 ],
 "metadata": {
  "kernelspec": {
   "display_name": "Python [conda env:ethereum]",
   "language": "python",
   "name": "conda-env-ethereum-py"
  },
  "language_info": {
   "codemirror_mode": {
    "name": "ipython",
    "version": 3
   },
   "file_extension": ".py",
   "mimetype": "text/x-python",
   "name": "python",
   "nbconvert_exporter": "python",
   "pygments_lexer": "ipython3",
   "version": "3.7.10"
  }
 },
 "nbformat": 4,
 "nbformat_minor": 5
}
